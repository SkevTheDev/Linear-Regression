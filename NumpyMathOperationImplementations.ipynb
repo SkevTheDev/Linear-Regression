{
 "cells": [
  {
   "cell_type": "code",
   "execution_count": 11,
   "metadata": {},
   "outputs": [
    {
     "name": "stdout",
     "output_type": "stream",
     "text": [
      "1.5\n",
      "5\n",
      "4.5\n",
      "4.5\n",
      "2.25\n",
      "4.5\n"
     ]
    }
   ],
   "source": [
    "import numpy as np\n",
    "x = np.array([1,2])\n",
    "xmean = x.mean()\n",
    "print(str(xmean))\n",
    "\n",
    "x1 = np.array([1,2])\n",
    "y1 = np.array([1,2])\n",
    "mean1 = x1.dot(y1)\n",
    "print(str(mean1))\n",
    "productmean1 = x1.mean() * y1.sum()\n",
    "print(str(productmean1))\n",
    "productmean2 = y1.mean() * x1.sum()\n",
    "print(str(productmean2))\n",
    "xmeansquared = x1.mean() * x1.mean()\n",
    "print(str(xmeansquared))\n",
    "xmeansquared2 = x1.mean() * x1.sum()\n",
    "print(str(xmeansquared2))"
   ]
  },
  {
   "cell_type": "code",
   "execution_count": null,
   "metadata": {},
   "outputs": [],
   "source": []
  }
 ],
 "metadata": {
  "kernelspec": {
   "display_name": "Python 3",
   "language": "python",
   "name": "python3"
  },
  "language_info": {
   "codemirror_mode": {
    "name": "ipython",
    "version": 3
   },
   "file_extension": ".py",
   "mimetype": "text/x-python",
   "name": "python",
   "nbconvert_exporter": "python",
   "pygments_lexer": "ipython3",
   "version": "3.7.2"
  }
 },
 "nbformat": 4,
 "nbformat_minor": 2
}
